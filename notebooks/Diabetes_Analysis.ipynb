{
 "cells": [
  {
   "cell_type": "markdown",
   "metadata": {},
   "source": [
    "# Comprehensive Diabetes Analysis and Prediction\n",
    "\n",
    "This notebook provides a detailed analysis of the diabetes dataset and implements multiple machine learning models for prediction.\n",
    "\n",
    "## Contents:\n",
    "1. Data Loading and Initial Exploration\n",
    "2. Exploratory Data Analysis (EDA)\n",
    "3. Feature Engineering\n",
    "4. Model Development and Comparison\n",
    "5. Advanced Analysis and Insights"
   ]
  },
  {
   "cell_type": "code",
   "execution_count": null,
   "metadata": {},
   "source": [
    "# Import required libraries\n",
    "import pandas as pd\n",
    "import numpy as np\n",
    "import matplotlib.pyplot as plt\n",
    "import seaborn as sns\n",
    "import plotly.express as px\n",
    "import plotly.graph_objects as go\n",
    "from sklearn.model_selection import train_test_split, cross_val_score, GridSearchCV\n",
    "from sklearn.preprocessing import StandardScaler, LabelEncoder\n",
    "from sklearn.metrics import classification_report, confusion_matrix, roc_curve, auc\n",
    "from sklearn.ensemble import RandomForestClassifier\n",
    "import xgboost as xgb\n",
    "import lightgbm as lgb\n",
    "from scipy import stats\n",
    "\n",
    "# Set style for better visualizations\n",
    "plt.style.use('seaborn')\n",
    "sns.set_palette(\"husl\")\n",
    "\n",
    "# Display settings\n",
    "pd.set_option('display.max_columns', None)\n",
    "pd.set_option('display.max_rows', 100)"
   ]
  },
  {
   "cell_type": "markdown",
   "metadata": {},
   "source": [
    "## 1. Data Loading and Initial Exploration"
   ]
  },
  {
   "cell_type": "code",
   "execution_count": null,
   "metadata": {},
   "source": [
    "# Load the dataset\n",
    "df = pd.read_csv('diabetes_dataset.csv')\n",
    "\n",
    "# Display basic information\n",
    "print(\"=== Dataset Info ===\")\n",
    "print(df.info())\n",
    "\n",
    "print(\"\\n=== First Few Rows ===\")\n",
    "display(df.head())\n",
    "\n",
    "print(\"\\n=== Basic Statistics ===\")\n",
    "display(df.describe())\n",
    "\n",
    "print(\"\\n=== Missing Values ===\")\n",
    "display(df.isnull().sum())"
   ]
  },
  {
   "cell_type": "markdown",
   "metadata": {},
   "source": [
    "## 2. Exploratory Data Analysis (EDA)"
   ]
  },
  {
   "cell_type": "code",
   "execution_count": null,
   "metadata": {},
   "source": [
    "# Distribution of target variable\n",
    "plt.figure(figsize=(10, 6))\n",
    "sns.countplot(data=df, x='Diabetes_Diagnosis')\n",
    "plt.title('Distribution of Diabetes Cases')\n",
    "plt.show()\n",
    "\n",
    "# Age distribution by diabetes status\n",
    "plt.figure(figsize=(12, 6))\n",
    "sns.kdeplot(data=df, x='Age', hue='Diabetes_Diagnosis')\n",
    "plt.title('Age Distribution by Diabetes Status')\n",
    "plt.show()\n",
    "\n",
    "# BMI vs Glucose Level scatter plot\n",
    "plt.figure(figsize=(10, 6))\n",
    "sns.scatterplot(data=df, x='BMI', y='Glucose_Level', hue='Diabetes_Diagnosis', alpha=0.6)\n",
    "plt.title('BMI vs Glucose Level')\n",
    "plt.show()"
   ]
  },
  {
   "cell_type": "code",
   "execution_count": null,
   "metadata": {},
   "source": [
    "# Correlation analysis\n",
    "numerical_cols = df.select_dtypes(include=['float64', 'int64']).columns\n",
    "correlation_matrix = df[numerical_cols].corr()\n",
    "\n",
    "plt.figure(figsize=(15, 10))\n",
    "sns.heatmap(correlation_matrix, annot=True, cmap='coolwarm', center=0)\n",
    "plt.title('Correlation Matrix of Numerical Variables')\n",
    "plt.tight_layout()\n",
    "plt.show()"
   ]
  },
  {
   "cell_type": "markdown",
   "metadata": {},
   "source": [
    "## 3. Feature Engineering"
   ]
  },
  {
   "cell_type": "code",
   "execution_count": null,
   "metadata": {},
   "source": [
    "# Create new features\n",
    "df['BMI_Category'] = pd.cut(df['BMI'], \n",
    "                           bins=[0, 18.5, 24.9, 29.9, 100],\n",
    "                           labels=['Underweight', 'Normal', 'Overweight', 'Obese'])\n",
    "\n",
    "df['BP_Category'] = pd.cut(df['Blood_Pressure'],\n",
    "                          bins=[0, 120, 140, 160, 200],\n",
    "                          labels=['Normal', 'Prehypertension', 'Stage 1', 'Stage 2'])\n",
    "\n",
    "df['Age_Group'] = pd.cut(df['Age'],\n",
    "                        bins=[0, 30, 45, 60, 75, 100],\n",
    "                        labels=['Young Adult', 'Adult', 'Middle Age', 'Senior', 'Elderly'])\n",
    "\n",
    "# Calculate risk score\n",
    "df['Risk_Score'] = (\n",
    "    (df['BMI'] > 30).astype(int) +\n",
    "    (df['Blood_Pressure'] > 140).astype(int) +\n",
    "    (df['Glucose_Level'] > 126).astype(int) +\n",
    "    (df['Age'] > 45).astype(int) +\n",
    "    df['Family_History_Diabetes']\n",
    ")"
   ]
  },
  {
   "cell_type": "markdown",
   "metadata": {},
   "source": [
    "## 4. Model Development and Comparison"
   ]
  },
  {
   "cell_type": "code",
   "execution_count": null,
   "metadata": {},
   "source": [
    "# Prepare data for modeling\n",
    "def prepare_data(df):\n",
    "    # Drop newly created categorical columns\n",
    "    df = df.drop(['BMI_Category', 'BP_Category', 'Age_Group'], axis=1)\n",
    "    \n",
    "    # Separate features and target\n",
    "    X = df.drop('Diabetes_Diagnosis', axis=1)\n",
    "    y = df['Diabetes_Diagnosis']\n",
    "    \n",
    "    # Handle categorical variables\n",
    "    categorical_cols = X.select_dtypes(include=['object']).columns\n",
    "    for col in categorical_cols:\n",
    "        le = LabelEncoder()\n",
    "        X[col] = le.fit_transform(X[col])\n",
    "    \n",
    "    # Split data\n",
    "    X_train, X_test, y_train, y_test = train_test_split(X, y, test_size=0.2, random_state=42)\n",
    "    \n",
    "    # Scale features\n",
    "    scaler = StandardScaler()\n",
    "    X_train_scaled = scaler.fit_transform(X_train)\n",
    "    X_test_scaled = scaler.transform(X_test)\n",
    "    \n",
    "    return X_train_scaled, X_test_scaled, y_train, y_test\n",
    "\n",
    "X_train_scaled, X_test_scaled, y_train, y_test = prepare_data(df)"
   ]
  },
  {
   "cell_type": "code",
   "execution_count": null,
   "metadata": {},
   "source": [
    "# Train and evaluate multiple models\n",
    "models = {\n",
    "    'Random Forest': RandomForestClassifier(n_estimators=100, random_state=42),\n",
    "    'XGBoost': xgb.XGBClassifier(random_state=42),\n",
    "    'LightGBM': lgb.LGBMClassifier(random_state=42)\n",
    "}\n",
    "\n",
    "results = {}\n",
    "for name, model in models.items():\n",
    "    print(f\"\\nTraining {name}...\")\n",
    "    model.fit(X_train_scaled, y_train)\n",
    "    y_pred = model.predict(X_test_scaled)\n",
    "    \n",
    "    print(f\"\\n{name} Classification Report:\")\n",
    "    print(classification_report(y_test, y_pred))\n",
    "    \n",
    "    # Store results\n",
    "    results[name] = {\n",
    "        'predictions': y_pred,\n",
    "        'probabilities': model.predict_proba(X_test_scaled)[:, 1]\n",
    "    }"
   ]
  },
  {
   "cell_type": "markdown",
   "metadata": {},
   "source": [
    "## 5. Advanced Analysis and Insights"
   ]
  },
  {
   "cell_type": "code",
   "execution_count": null,
   "metadata": {},
   "source": [
    "# Plot ROC curves for all models\n",
    "plt.figure(figsize=(10, 8))\n",
    "for name, result in results.items():\n",
    "    fpr, tpr, _ = roc_curve(y_test, result['probabilities'])\n",
    "    roc_auc = auc(fpr, tpr)\n",
    "    plt.plot(fpr, tpr, label=f'{name} (AUC = {roc_auc:.2f})')\n",
    "\n",
    "plt.plot([0, 1], [0, 1], 'k--')\n",
    "plt.xlabel('False Positive Rate')\n",
    "plt.ylabel('True Positive Rate')\n",
    "plt.title('ROC Curves Comparison')\n",
    "plt.legend()\n",
    "plt.show()"
   ]
  },
  {
   "cell_type": "code",
   "execution_count": null,
   "metadata": {},
   "source": [
    "# Analyze feature importance across models\n",
    "feature_names = df.drop(['Diabetes_Diagnosis', 'BMI_Category', 'BP_Category', 'Age_Group'], axis=1).columns\n",
    "\n",
    "# Get feature importance from Random Forest\n",
    "rf_importance = pd.DataFrame({\n",
    "    'feature': feature_names,\n",
    "    'importance': models['Random Forest'].feature_importances_\n",
    "}).sort_values('importance', ascending=False)\n",
    "\n",
    "# Plot top 15 features\n",
    "plt.figure(figsize=(12, 6))\n",
    "sns.barplot(data=rf_importance.head(15), x='importance', y='feature')\n",
    "plt.title('Top 15 Most Important Features (Random Forest)')\n",
    "plt.tight_layout()\n",
    "plt.show()"
   ]
  },
  {
   "cell_type": "markdown",
   "metadata": {},
   "source": [
    "## 6. Risk Analysis and Recommendations"
   ]
  },
  {
   "cell_type": "code",
   "execution_count": null,
   "metadata": {},
   "source": [
    "# Analyze risk factors\n",
    "risk_analysis = pd.DataFrame({\n",
    "    'Risk_Score': df['Risk_Score'],\n",
    "    'Diabetes': df['Diabetes_Diagnosis']\n",
    "})\n",
    "\n",
    "plt.figure(figsize=(10, 6))\n",
    "sns.boxplot(data=df, x='Risk_Score', y='Diabetes_Diagnosis')\n",
    "plt.title('Risk Score Distribution by Diabetes Status')\n",
    "plt.show()\n",
    "\n",
    "# Calculate risk probability by score\n",
    "risk_prob = risk_analysis.groupby('Risk_Score')['Diabetes'].mean()\n",
    "print(\"\\nProbability of Diabetes by Risk Score:\")\n",
    "print(risk_prob)"
   ]
  }
 ],
 "metadata": {
  "kernelspec": {
   "display_name": "Python 3",
   "language": "python",
   "name": "python3"
  },
  "language_info": {
   "codemirror_mode": {
    "name": "ipython",
    "version": 3
   },
   "file_extension": ".py",
   "mimetype": "text/x-python",
   "name": "python",
   "nbconvert_exporter": "python",
   "pygments_lexer": "ipython3",
   "version": "3.8.0"
  }
 },
 "nbformat": 4,
 "nbformat_minor": 4
}
